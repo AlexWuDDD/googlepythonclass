{
 "cells": [
  {
   "cell_type": "code",
   "execution_count": 1,
   "metadata": {},
   "outputs": [],
   "source": [
    "import os\n",
    "import re\n",
    "import shutil\n",
    "import subprocess\n",
    "import sys"
   ]
  },
  {
   "cell_type": "code",
   "execution_count": 2,
   "metadata": {},
   "outputs": [],
   "source": [
    "def get_special_paths(dirname):\n",
    "    result = []\n",
    "    filenamesInDir = os.listdir(dirname)\n",
    "    for filename in filenamesInDir:\n",
    "        match = re.search(r'__(\\w+)__', filename)\n",
    "        if match:\n",
    "            result.append(os.path.abspath(os.path.join(dirname, filename)))\n",
    "    return result\n",
    "    \n"
   ]
  },
  {
   "cell_type": "code",
   "execution_count": 3,
   "metadata": {},
   "outputs": [],
   "source": [
    "paths = get_special_paths('.')"
   ]
  },
  {
   "cell_type": "code",
   "execution_count": 4,
   "metadata": {},
   "outputs": [],
   "source": [
    "def copy_to(paths, to_dir):\n",
    "    if not os.path.exists(to_dir):\n",
    "        os.mkdir(to_dir)\n",
    "    for path in paths:\n",
    "        fname = os.path.basename(path)\n",
    "        shutil.copy(path, os.path.join(to_dir, fname))\n",
    "        "
   ]
  },
  {
   "cell_type": "code",
   "execution_count": 5,
   "metadata": {},
   "outputs": [],
   "source": [
    "copy_to(paths, 'alexcool')"
   ]
  },
  {
   "cell_type": "code",
   "execution_count": 6,
   "metadata": {},
   "outputs": [],
   "source": [
    "def zip_to(path, zipfile):\n",
    "    cmd= '7z a -tzip ' + zipfile + ' ' + path\n",
    "    print(\"Command I'm going to do: \" + cmd)\n",
    "    (status, output) = subprocess.getstatusoutput(cmd)\n",
    "    if status:\n",
    "        print('Error: ' + output)\n",
    "    else:\n",
    "        print('cmd is executed successfully')\n",
    "        "
   ]
  },
  {
   "cell_type": "code",
   "execution_count": 7,
   "metadata": {},
   "outputs": [
    {
     "name": "stdout",
     "output_type": "stream",
     "text": [
      "['C:\\\\Users\\\\e823551\\\\Documents\\\\Google Python Class\\\\copyspecial\\\\xyz__hello__.txt', 'C:\\\\Users\\\\e823551\\\\Documents\\\\Google Python Class\\\\copyspecial\\\\zz__something__.jpg']\n"
     ]
    }
   ],
   "source": [
    "print(paths)"
   ]
  },
  {
   "cell_type": "code",
   "execution_count": 8,
   "metadata": {},
   "outputs": [
    {
     "name": "stdout",
     "output_type": "stream",
     "text": [
      "Command I'm going to do: 7z a -tzip alex ./alexcool\n",
      "cmd is executed successfully\n"
     ]
    }
   ],
   "source": [
    "zip_to('./alexcool', 'alex')"
   ]
  },
  {
   "cell_type": "code",
   "execution_count": null,
   "metadata": {},
   "outputs": [],
   "source": []
  }
 ],
 "metadata": {
  "kernelspec": {
   "display_name": "Python 3",
   "language": "python",
   "name": "python3"
  },
  "language_info": {
   "codemirror_mode": {
    "name": "ipython",
    "version": 3
   },
   "file_extension": ".py",
   "mimetype": "text/x-python",
   "name": "python",
   "nbconvert_exporter": "python",
   "pygments_lexer": "ipython3",
   "version": "3.7.1"
  }
 },
 "nbformat": 4,
 "nbformat_minor": 2
}
