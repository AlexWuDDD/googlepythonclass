{
 "cells": [
  {
   "cell_type": "code",
   "execution_count": 10,
   "metadata": {},
   "outputs": [
    {
     "name": "stdout",
     "output_type": "stream",
     "text": [
      "alex is cool\n",
      "alex is cool\n",
      "alex is cool\n",
      "Hi, alex, I have 100000 yuan\n",
      "-------------------------------------\n",
      "h\n",
      "5\n",
      "e\n",
      "hell\n"
     ]
    }
   ],
   "source": [
    "import sys\n",
    "\n",
    "def main():\n",
    "    print(\"alex is cool\")\n",
    "    \"\"\"\n",
    "    print('sys.argv') 可以得到用命令行执行py文件时的参数\n",
    "\n",
    "    \"\"\"\n",
    "    print('alex' + ' is cool') \n",
    "    print('alex', 'is', 'cool')\n",
    "    \n",
    "    print(\"Hi, %s, I have %d yuan\" %('alex', 100000))\n",
    "    \n",
    "    print('-------------------------------------')\n",
    "    a = 'hello'\n",
    "    print(a[0])\n",
    "    print(len(a))\n",
    "    print(a[1:2])\n",
    "    print(a[:-1])\n",
    "     \n",
    "# 这是一个固定模板\n",
    "if __name__ == '__main__':\n",
    "    main()"
   ]
  },
  {
   "cell_type": "code",
   "execution_count": null,
   "metadata": {},
   "outputs": [],
   "source": []
  }
 ],
 "metadata": {
  "kernelspec": {
   "display_name": "Python 3",
   "language": "python",
   "name": "python3"
  },
  "language_info": {
   "codemirror_mode": {
    "name": "ipython",
    "version": 3
   },
   "file_extension": ".py",
   "mimetype": "text/x-python",
   "name": "python",
   "nbconvert_exporter": "python",
   "pygments_lexer": "ipython3",
   "version": "3.7.1"
  }
 },
 "nbformat": 4,
 "nbformat_minor": 2
}
