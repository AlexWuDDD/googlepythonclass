{
 "cells": [
  {
   "cell_type": "code",
   "execution_count": 1,
   "metadata": {},
   "outputs": [],
   "source": [
    "import sys\n",
    "import re"
   ]
  },
  {
   "cell_type": "code",
   "execution_count": 23,
   "metadata": {},
   "outputs": [],
   "source": [
    "def extract_year(filename):\n",
    "    with open(filename) as f:\n",
    "         match = re.search(r'Popularity in (\\d\\d\\d\\d)', f.read())\n",
    "    if match:\n",
    "        return match.group(1)\n",
    "    else:\n",
    "        print('Not found')\n",
    "        return None"
   ]
  },
  {
   "cell_type": "code",
   "execution_count": 38,
   "metadata": {},
   "outputs": [],
   "source": [
    "def extract_names_and_ranknums(filename):\n",
    "    with open(filename) as f:\n",
    "        match = re.findall(r'<tr align=\"right\"><td>(\\d+)</td><td>(\\w+)</td><td>(\\w+)</td>', f.read())\n",
    "    if match:\n",
    "        return match\n",
    "    else:\n",
    "        print('Not found')\n",
    "        return None"
   ]
  },
  {
   "cell_type": "code",
   "execution_count": 65,
   "metadata": {},
   "outputs": [],
   "source": [
    "def summaryfile(filename):\n",
    "    result = []\n",
    "    result.append(str(extract_year(filename)))\n",
    "    \n",
    "    result_name_and_rank = []\n",
    "    rank_and_names = extract_names_and_ranknums(filename)\n",
    "    for item in rank_and_names:\n",
    "        result_name_and_rank.append( item[1] + ' ' + item[0])\n",
    "        result_name_and_rank.append( item[2] + ' ' + item[0])\n",
    "    \n",
    "    \n",
    "    for item in sorted(result_name_and_rank):\n",
    "        result.append(item)\n",
    "        \n",
    "    with open(filename + '.summary', 'w') as f:\n",
    "        for item in result:\n",
    "            f.write(item + '\\n')"
   ]
  },
  {
   "cell_type": "code",
   "execution_count": 66,
   "metadata": {},
   "outputs": [],
   "source": [
    "summaryfile('baby1992.html')"
   ]
  },
  {
   "cell_type": "code",
   "execution_count": 68,
   "metadata": {},
   "outputs": [],
   "source": [
    "summaryfile('baby1990.html')"
   ]
  },
  {
   "cell_type": "code",
   "execution_count": null,
   "metadata": {},
   "outputs": [],
   "source": []
  }
 ],
 "metadata": {
  "kernelspec": {
   "display_name": "Python 3",
   "language": "python",
   "name": "python3"
  },
  "language_info": {
   "codemirror_mode": {
    "name": "ipython",
    "version": 3
   },
   "file_extension": ".py",
   "mimetype": "text/x-python",
   "name": "python",
   "nbconvert_exporter": "python",
   "pygments_lexer": "ipython3",
   "version": "3.7.1"
  }
 },
 "nbformat": 4,
 "nbformat_minor": 2
}
