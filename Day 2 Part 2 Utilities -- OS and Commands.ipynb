{
 "cells": [
  {
   "cell_type": "code",
   "execution_count": 1,
   "metadata": {},
   "outputs": [],
   "source": [
    "import os"
   ]
  },
  {
   "cell_type": "code",
   "execution_count": 2,
   "metadata": {},
   "outputs": [
    {
     "data": {
      "text/plain": [
       "['DirEntry',\n",
       " 'F_OK',\n",
       " 'MutableMapping',\n",
       " 'O_APPEND',\n",
       " 'O_BINARY',\n",
       " 'O_CREAT',\n",
       " 'O_EXCL',\n",
       " 'O_NOINHERIT',\n",
       " 'O_RANDOM',\n",
       " 'O_RDONLY',\n",
       " 'O_RDWR',\n",
       " 'O_SEQUENTIAL',\n",
       " 'O_SHORT_LIVED',\n",
       " 'O_TEMPORARY',\n",
       " 'O_TEXT',\n",
       " 'O_TRUNC',\n",
       " 'O_WRONLY',\n",
       " 'P_DETACH',\n",
       " 'P_NOWAIT',\n",
       " 'P_NOWAITO',\n",
       " 'P_OVERLAY',\n",
       " 'P_WAIT',\n",
       " 'PathLike',\n",
       " 'R_OK',\n",
       " 'SEEK_CUR',\n",
       " 'SEEK_END',\n",
       " 'SEEK_SET',\n",
       " 'TMP_MAX',\n",
       " 'W_OK',\n",
       " 'X_OK',\n",
       " '_Environ',\n",
       " '__all__',\n",
       " '__builtins__',\n",
       " '__cached__',\n",
       " '__doc__',\n",
       " '__file__',\n",
       " '__loader__',\n",
       " '__name__',\n",
       " '__package__',\n",
       " '__spec__',\n",
       " '_execvpe',\n",
       " '_exists',\n",
       " '_exit',\n",
       " '_fspath',\n",
       " '_get_exports_list',\n",
       " '_putenv',\n",
       " '_unsetenv',\n",
       " '_wrap_close',\n",
       " 'abc',\n",
       " 'abort',\n",
       " 'access',\n",
       " 'altsep',\n",
       " 'chdir',\n",
       " 'chmod',\n",
       " 'close',\n",
       " 'closerange',\n",
       " 'cpu_count',\n",
       " 'curdir',\n",
       " 'defpath',\n",
       " 'device_encoding',\n",
       " 'devnull',\n",
       " 'dup',\n",
       " 'dup2',\n",
       " 'environ',\n",
       " 'error',\n",
       " 'execl',\n",
       " 'execle',\n",
       " 'execlp',\n",
       " 'execlpe',\n",
       " 'execv',\n",
       " 'execve',\n",
       " 'execvp',\n",
       " 'execvpe',\n",
       " 'extsep',\n",
       " 'fdopen',\n",
       " 'fsdecode',\n",
       " 'fsencode',\n",
       " 'fspath',\n",
       " 'fstat',\n",
       " 'fsync',\n",
       " 'ftruncate',\n",
       " 'get_exec_path',\n",
       " 'get_handle_inheritable',\n",
       " 'get_inheritable',\n",
       " 'get_terminal_size',\n",
       " 'getcwd',\n",
       " 'getcwdb',\n",
       " 'getenv',\n",
       " 'getlogin',\n",
       " 'getpid',\n",
       " 'getppid',\n",
       " 'isatty',\n",
       " 'kill',\n",
       " 'linesep',\n",
       " 'link',\n",
       " 'listdir',\n",
       " 'lseek',\n",
       " 'lstat',\n",
       " 'makedirs',\n",
       " 'mkdir',\n",
       " 'name',\n",
       " 'open',\n",
       " 'pardir',\n",
       " 'path',\n",
       " 'pathsep',\n",
       " 'pipe',\n",
       " 'popen',\n",
       " 'putenv',\n",
       " 'read',\n",
       " 'readlink',\n",
       " 'remove',\n",
       " 'removedirs',\n",
       " 'rename',\n",
       " 'renames',\n",
       " 'replace',\n",
       " 'rmdir',\n",
       " 'scandir',\n",
       " 'sep',\n",
       " 'set_handle_inheritable',\n",
       " 'set_inheritable',\n",
       " 'spawnl',\n",
       " 'spawnle',\n",
       " 'spawnv',\n",
       " 'spawnve',\n",
       " 'st',\n",
       " 'startfile',\n",
       " 'stat',\n",
       " 'stat_result',\n",
       " 'statvfs_result',\n",
       " 'strerror',\n",
       " 'supports_bytes_environ',\n",
       " 'supports_dir_fd',\n",
       " 'supports_effective_ids',\n",
       " 'supports_fd',\n",
       " 'supports_follow_symlinks',\n",
       " 'symlink',\n",
       " 'sys',\n",
       " 'system',\n",
       " 'terminal_size',\n",
       " 'times',\n",
       " 'times_result',\n",
       " 'truncate',\n",
       " 'umask',\n",
       " 'uname_result',\n",
       " 'unlink',\n",
       " 'urandom',\n",
       " 'utime',\n",
       " 'waitpid',\n",
       " 'walk',\n",
       " 'write']"
      ]
     },
     "execution_count": 2,
     "metadata": {},
     "output_type": "execute_result"
    }
   ],
   "source": [
    "dir(os)"
   ]
  },
  {
   "cell_type": "code",
   "execution_count": 3,
   "metadata": {},
   "outputs": [
    {
     "name": "stdout",
     "output_type": "stream",
     "text": [
      "Help on built-in function listdir in module nt:\n",
      "\n",
      "listdir(path=None)\n",
      "    Return a list containing the names of the files in the directory.\n",
      "    \n",
      "    path can be specified as either str or bytes.  If path is bytes,\n",
      "      the filenames returned will also be bytes; in all other circumstances\n",
      "      the filenames returned will be str.\n",
      "    If path is None, uses the path='.'.\n",
      "    On some platforms, path may also be specified as an open file descriptor;\\\n",
      "      the file descriptor must refer to a directory.\n",
      "      If this functionality is unavailable, using it raises NotImplementedError.\n",
      "    \n",
      "    The list is in arbitrary order.  It does not include the special\n",
      "    entries '.' and '..' even if they are present in the directory.\n",
      "\n"
     ]
    }
   ],
   "source": [
    "help(os.listdir)"
   ]
  },
  {
   "cell_type": "code",
   "execution_count": 13,
   "metadata": {},
   "outputs": [
    {
     "name": "stdout",
     "output_type": "stream",
     "text": [
      ".\\.ipynb_checkpoints\n",
      "C:\\Users\\e823551\\Documents\\Google Python Class\\.ipynb_checkpoints\n",
      ".\\alice.txt\n",
      "C:\\Users\\e823551\\Documents\\Google Python Class\\alice.txt\n",
      ".\\Day 1 Part 2 Lists, Sorting, and Tuples.ipynb\n",
      "C:\\Users\\e823551\\Documents\\Google Python Class\\Day 1 Part 2 Lists, Sorting, and Tuples.ipynb\n",
      ".\\Day 2 Part 1 Regular Expressions..ipynb\n",
      "C:\\Users\\e823551\\Documents\\Google Python Class\\Day 2 Part 1 Regular Expressions..ipynb\n",
      ".\\Day 2 Part 2 Utilities -- OS and Commands.ipynb\n",
      "C:\\Users\\e823551\\Documents\\Google Python Class\\Day 2 Part 2 Utilities -- OS and Commands.ipynb\n",
      ".\\Day1 Part3 Dicts and Files..ipynb\n",
      "C:\\Users\\e823551\\Documents\\Google Python Class\\Day1 Part3 Dicts and Files..ipynb\n",
      ".\\Day1_Part1_Introduction_Strings.ipynb\n",
      "C:\\Users\\e823551\\Documents\\Google Python Class\\Day1_Part1_Introduction_Strings.ipynb\n",
      ".\\list1.ipynb\n",
      "C:\\Users\\e823551\\Documents\\Google Python Class\\list1.ipynb\n",
      ".\\list2.ipynb\n",
      "C:\\Users\\e823551\\Documents\\Google Python Class\\list2.ipynb\n",
      ".\\mimic.ipynb\n",
      "C:\\Users\\e823551\\Documents\\Google Python Class\\mimic.ipynb\n",
      ".\\small.txt\n",
      "C:\\Users\\e823551\\Documents\\Google Python Class\\small.txt\n",
      ".\\String1.ipynb\n",
      "C:\\Users\\e823551\\Documents\\Google Python Class\\String1.ipynb\n",
      ".\\String2.ipynb\n",
      "C:\\Users\\e823551\\Documents\\Google Python Class\\String2.ipynb\n",
      ".\\test.ipynb\n",
      "C:\\Users\\e823551\\Documents\\Google Python Class\\test.ipynb\n",
      ".\\test.txt\n",
      "C:\\Users\\e823551\\Documents\\Google Python Class\\test.txt\n",
      ".\\wordcount.ipynb\n",
      "C:\\Users\\e823551\\Documents\\Google Python Class\\wordcount.ipynb\n"
     ]
    }
   ],
   "source": [
    "def List(dir):\n",
    "    filenames = os.listdir(dir)\n",
    "    for filename in filenames:\n",
    "        path = os.path.join(dir, filename)\n",
    "        print(path)\n",
    "        print(os.path.abspath(path))\n",
    "\n",
    "List(\".\")"
   ]
  },
  {
   "cell_type": "code",
   "execution_count": 14,
   "metadata": {},
   "outputs": [
    {
     "data": {
      "text/plain": [
       "False"
      ]
     },
     "execution_count": 14,
     "metadata": {},
     "output_type": "execute_result"
    }
   ],
   "source": [
    "os.path.exists('/document')"
   ]
  },
  {
   "cell_type": "code",
   "execution_count": 15,
   "metadata": {},
   "outputs": [],
   "source": [
    "import shutil"
   ]
  },
  {
   "cell_type": "code",
   "execution_count": 16,
   "metadata": {},
   "outputs": [],
   "source": [
    "# shutil.copy(source, dest)"
   ]
  },
  {
   "cell_type": "code",
   "execution_count": 19,
   "metadata": {},
   "outputs": [],
   "source": [
    "import subprocess"
   ]
  },
  {
   "cell_type": "code",
   "execution_count": 20,
   "metadata": {},
   "outputs": [
    {
     "data": {
      "text/plain": [
       "['ABOVE_NORMAL_PRIORITY_CLASS',\n",
       " 'BELOW_NORMAL_PRIORITY_CLASS',\n",
       " 'CREATE_BREAKAWAY_FROM_JOB',\n",
       " 'CREATE_DEFAULT_ERROR_MODE',\n",
       " 'CREATE_NEW_CONSOLE',\n",
       " 'CREATE_NEW_PROCESS_GROUP',\n",
       " 'CREATE_NO_WINDOW',\n",
       " 'CalledProcessError',\n",
       " 'CompletedProcess',\n",
       " 'DETACHED_PROCESS',\n",
       " 'DEVNULL',\n",
       " 'HIGH_PRIORITY_CLASS',\n",
       " 'Handle',\n",
       " 'IDLE_PRIORITY_CLASS',\n",
       " 'NORMAL_PRIORITY_CLASS',\n",
       " 'PIPE',\n",
       " 'Popen',\n",
       " 'REALTIME_PRIORITY_CLASS',\n",
       " 'STARTF_USESHOWWINDOW',\n",
       " 'STARTF_USESTDHANDLES',\n",
       " 'STARTUPINFO',\n",
       " 'STDOUT',\n",
       " 'STD_ERROR_HANDLE',\n",
       " 'STD_INPUT_HANDLE',\n",
       " 'STD_OUTPUT_HANDLE',\n",
       " 'SW_HIDE',\n",
       " 'SubprocessError',\n",
       " 'TimeoutExpired',\n",
       " '__all__',\n",
       " '__builtins__',\n",
       " '__cached__',\n",
       " '__doc__',\n",
       " '__file__',\n",
       " '__loader__',\n",
       " '__name__',\n",
       " '__package__',\n",
       " '__spec__',\n",
       " '_active',\n",
       " '_args_from_interpreter_flags',\n",
       " '_cleanup',\n",
       " '_mswindows',\n",
       " '_optim_args_from_interpreter_flags',\n",
       " '_time',\n",
       " '_winapi',\n",
       " 'builtins',\n",
       " 'call',\n",
       " 'check_call',\n",
       " 'check_output',\n",
       " 'errno',\n",
       " 'getoutput',\n",
       " 'getstatusoutput',\n",
       " 'io',\n",
       " 'list2cmdline',\n",
       " 'msvcrt',\n",
       " 'os',\n",
       " 'run',\n",
       " 'signal',\n",
       " 'sys',\n",
       " 'threading',\n",
       " 'time',\n",
       " 'warnings']"
      ]
     },
     "execution_count": 20,
     "metadata": {},
     "output_type": "execute_result"
    }
   ],
   "source": [
    "dir(subprocess)"
   ]
  },
  {
   "cell_type": "code",
   "execution_count": 21,
   "metadata": {},
   "outputs": [
    {
     "name": "stdout",
     "output_type": "stream",
     "text": [
      "Help on function getstatusoutput in module subprocess:\n",
      "\n",
      "getstatusoutput(cmd)\n",
      "    Return (exitcode, output) of executing cmd in a shell.\n",
      "    \n",
      "    Execute the string 'cmd' in a shell with 'check_output' and\n",
      "    return a 2-tuple (status, output). The locale encoding is used\n",
      "    to decode the output and process newlines.\n",
      "    \n",
      "    A trailing newline is stripped from the output.\n",
      "    The exit status for the command can be interpreted\n",
      "    according to the rules for the function 'wait'. Example:\n",
      "    \n",
      "    >>> import subprocess\n",
      "    >>> subprocess.getstatusoutput('ls /bin/ls')\n",
      "    (0, '/bin/ls')\n",
      "    >>> subprocess.getstatusoutput('cat /bin/junk')\n",
      "    (1, 'cat: /bin/junk: No such file or directory')\n",
      "    >>> subprocess.getstatusoutput('/bin/junk')\n",
      "    (127, 'sh: /bin/junk: not found')\n",
      "    >>> subprocess.getstatusoutput('/bin/kill $$')\n",
      "    (-15, '')\n",
      "\n"
     ]
    }
   ],
   "source": [
    "help(subprocess.getstatusoutput)"
   ]
  },
  {
   "cell_type": "code",
   "execution_count": 26,
   "metadata": {},
   "outputs": [
    {
     "name": "stdout",
     "output_type": "stream",
     "text": [
      " Volume in drive C is OSDisk\n",
      " Volume Serial Number is C20D-8D1B\n",
      "\n",
      " Directory of C:\\Users\\e823551\\Documents\\Google Python Class\n",
      "\n",
      "02/05/2019  08:06 PM    <DIR>          .\n",
      "02/05/2019  08:06 PM    <DIR>          ..\n",
      "02/05/2019  07:43 PM    <DIR>          .ipynb_checkpoints\n",
      "12/22/2009  03:23 AM           148,575 alice.txt\n",
      "02/03/2019  10:45 AM            17,920 Day 1 Part 2 Lists, Sorting, and Tuples.ipynb\n",
      "02/05/2019  07:42 PM            13,147 Day 2 Part 1 Regular Expressions..ipynb\n",
      "02/05/2019  08:06 PM            12,523 Day 2 Part 2 Utilities -- OS and Commands.ipynb\n",
      "02/04/2019  07:49 AM             7,583 Day1 Part3 Dicts and Files..ipynb\n",
      "02/03/2019  09:57 AM             1,667 Day1_Part1_Introduction_Strings.ipynb\n",
      "02/03/2019  08:54 PM             5,761 list1.ipynb\n",
      "02/03/2019  09:11 PM             4,194 list2.ipynb\n",
      "02/04/2019  09:01 AM             4,047 mimic.ipynb\n",
      "12/22/2009  06:07 AM               123 small.txt\n",
      "02/03/2019  02:20 PM             6,459 String1.ipynb\n",
      "02/03/2019  08:44 PM             5,424 String2.ipynb\n",
      "02/04/2019  09:01 AM            33,920 test.ipynb\n",
      "02/04/2019  07:38 AM                42 test.txt\n",
      "02/04/2019  08:24 AM             3,923 wordcount.ipynb\n",
      "              15 File(s)        265,308 bytes\n",
      "               3 Dir(s)  434,255,482,880 bytes free\n",
      "-------------------\n",
      "0\n"
     ]
    }
   ],
   "source": [
    "def List(dir):\n",
    "    cmd = 'dir ' + dir\n",
    "    (status, output) = subprocess.getstatusoutput(cmd)\n",
    "    if status:\n",
    "        print('there was an error')\n",
    "    print(output)\n",
    "    print('-------------------')\n",
    "    print(status)\n",
    "List('.')"
   ]
  },
  {
   "cell_type": "code",
   "execution_count": null,
   "metadata": {},
   "outputs": [],
   "source": []
  }
 ],
 "metadata": {
  "kernelspec": {
   "display_name": "Python 3",
   "language": "python",
   "name": "python3"
  },
  "language_info": {
   "codemirror_mode": {
    "name": "ipython",
    "version": 3
   },
   "file_extension": ".py",
   "mimetype": "text/x-python",
   "name": "python",
   "nbconvert_exporter": "python",
   "pygments_lexer": "ipython3",
   "version": "3.7.1"
  }
 },
 "nbformat": 4,
 "nbformat_minor": 2
}
