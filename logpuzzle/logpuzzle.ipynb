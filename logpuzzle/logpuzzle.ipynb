{
 "cells": [
  {
   "cell_type": "code",
   "execution_count": 49,
   "metadata": {},
   "outputs": [],
   "source": [
    "import os\n",
    "import re\n",
    "import sys\n",
    "import urllib\n",
    "#dir(os)"
   ]
  },
  {
   "cell_type": "code",
   "execution_count": 50,
   "metadata": {},
   "outputs": [],
   "source": [
    "def url_sort_key(url):\n",
    "    #print('bbbbbbbbbb', url)\n",
    "    match = re.search(r'-(\\w+)-(\\w+)\\.\\w+', url)\n",
    "    if match:\n",
    "        #print(\"aaaaaa: \", match.group(2))\n",
    "        return match.group(2)\n",
    "    else:\n",
    "        return url\n",
    "\n",
    "\n",
    "def read_urls(filename):\n",
    "    underbar = filename.index('_')\n",
    "    # print(underbar)\n",
    "    host = filename[underbar + 1:]\n",
    "    # print(host)\n",
    "    \n",
    "    url_dict = {}\n",
    "    with open(filename, 'r') as f:\n",
    "        for line in f.readlines():\n",
    "            match = re.search(r'GET (\\S+)', line)\n",
    "            if match:\n",
    "                path = match.group(1)\n",
    "                if 'puzzle' in path:\n",
    "                    url_dict['http://'+ host + path] = 1\n",
    "    \n",
    "    return sorted(url_dict.keys(), key=url_sort_key)\n",
    "\n",
    "\n",
    "    "
   ]
  },
  {
   "cell_type": "markdown",
   "metadata": {},
   "source": [
    "使用 os.mkdir 時，如果你給定的 path 參數是個多層的 path，如果某個中繼的目錄不存在(比如說上例中的 foo), Python 將會報錯．\n",
    "\n",
    "但如果使用 os.makedirs 則 Python 會連同中間的目錄一起建立．但有一點值得注意，當 path 末端的目錄已經存在的話，os.makedirs 也是會引發例外．"
   ]
  },
  {
   "cell_type": "code",
   "execution_count": 53,
   "metadata": {},
   "outputs": [],
   "source": [
    "def download_images(img_urls, dest_dir):\n",
    "    if not os.path.exists(dest_dir):\n",
    "        os.makedirs(dest_dir)\n",
    "    \n",
    "    f = open(os.path.join(dest_dir, 'index.html'), 'w')\n",
    "    f.write('<html><body>\\n')\n",
    "    \n",
    "    i = 0\n",
    "    for img_url in img_urls:\n",
    "        local_name = 'img%s.jpg' % i\n",
    "        print('Retrieving...', img_url)\n",
    "        urllib.request.urlretrieve(img_url, os.path.join(dest_dir, local_name))\n",
    "        \n",
    "        f.write('<img src=\"%s\">' %(local_name,))\n",
    "        i+=1\n",
    "\n",
    "    f.write('\\n</body></html>\\n')\n",
    "    f.close()\n",
    "\n",
    "    \n",
    "    \n",
    "    "
   ]
  },
  {
   "cell_type": "code",
   "execution_count": 54,
   "metadata": {},
   "outputs": [
    {
     "name": "stdout",
     "output_type": "stream",
     "text": [
      "Retrieving... http://code.google.com/edu/languages/google-python-class/images/puzzle/a-baaa.jpg\n",
      "Retrieving... http://code.google.com/edu/languages/google-python-class/images/puzzle/a-baab.jpg\n",
      "Retrieving... http://code.google.com/edu/languages/google-python-class/images/puzzle/a-baac.jpg\n",
      "Retrieving... http://code.google.com/edu/languages/google-python-class/images/puzzle/a-baad.jpg\n",
      "Retrieving... http://code.google.com/edu/languages/google-python-class/images/puzzle/a-baae.jpg\n",
      "Retrieving... http://code.google.com/edu/languages/google-python-class/images/puzzle/a-baaf.jpg\n",
      "Retrieving... http://code.google.com/edu/languages/google-python-class/images/puzzle/a-baag.jpg\n",
      "Retrieving... http://code.google.com/edu/languages/google-python-class/images/puzzle/a-baah.jpg\n",
      "Retrieving... http://code.google.com/edu/languages/google-python-class/images/puzzle/a-baai.jpg\n",
      "Retrieving... http://code.google.com/edu/languages/google-python-class/images/puzzle/a-baaj.jpg\n",
      "Retrieving... http://code.google.com/edu/languages/google-python-class/images/puzzle/a-baba.jpg\n",
      "Retrieving... http://code.google.com/edu/languages/google-python-class/images/puzzle/a-babb.jpg\n",
      "Retrieving... http://code.google.com/edu/languages/google-python-class/images/puzzle/a-babc.jpg\n",
      "Retrieving... http://code.google.com/edu/languages/google-python-class/images/puzzle/a-babd.jpg\n",
      "Retrieving... http://code.google.com/edu/languages/google-python-class/images/puzzle/a-babe.jpg\n",
      "Retrieving... http://code.google.com/edu/languages/google-python-class/images/puzzle/a-babf.jpg\n",
      "Retrieving... http://code.google.com/edu/languages/google-python-class/images/puzzle/a-babg.jpg\n",
      "Retrieving... http://code.google.com/edu/languages/google-python-class/images/puzzle/a-babh.jpg\n",
      "Retrieving... http://code.google.com/edu/languages/google-python-class/images/puzzle/a-babi.jpg\n",
      "Retrieving... http://code.google.com/edu/languages/google-python-class/images/puzzle/a-babj.jpg\n"
     ]
    }
   ],
   "source": [
    "img_urls = read_urls('animal_code.google.com')\n",
    "# print(img_urls)\n",
    "download_images(img_urls, 'aleximage')"
   ]
  },
  {
   "cell_type": "code",
   "execution_count": null,
   "metadata": {},
   "outputs": [],
   "source": []
  }
 ],
 "metadata": {
  "kernelspec": {
   "display_name": "Python 3",
   "language": "python",
   "name": "python3"
  },
  "language_info": {
   "codemirror_mode": {
    "name": "ipython",
    "version": 3
   },
   "file_extension": ".py",
   "mimetype": "text/x-python",
   "name": "python",
   "nbconvert_exporter": "python",
   "pygments_lexer": "ipython3",
   "version": "3.7.1"
  }
 },
 "nbformat": 4,
 "nbformat_minor": 2
}
